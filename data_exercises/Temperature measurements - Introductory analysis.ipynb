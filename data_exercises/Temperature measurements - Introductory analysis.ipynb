{
 "cells": [
  {
   "metadata": {
    "ExecuteTime": {
     "end_time": "2024-10-29T15:41:06.755907Z",
     "start_time": "2024-10-29T15:41:04.757959Z"
    }
   },
   "cell_type": "code",
   "source": "!pip install pandas",
   "id": "adc5bd5a0bcf271a",
   "outputs": [
    {
     "name": "stdout",
     "output_type": "stream",
     "text": [
      "Requirement already satisfied: pandas in c:\\users\\ana petrova\\.conda\\envs\\pythonproject\\lib\\site-packages (2.2.3)\n",
      "Requirement already satisfied: numpy>=1.23.2 in c:\\users\\ana petrova\\.conda\\envs\\pythonproject\\lib\\site-packages (from pandas) (2.1.2)\n",
      "Requirement already satisfied: python-dateutil>=2.8.2 in c:\\users\\ana petrova\\.conda\\envs\\pythonproject\\lib\\site-packages (from pandas) (2.9.0.post0)\n",
      "Requirement already satisfied: pytz>=2020.1 in c:\\users\\ana petrova\\.conda\\envs\\pythonproject\\lib\\site-packages (from pandas) (2024.1)\n",
      "Requirement already satisfied: tzdata>=2022.7 in c:\\users\\ana petrova\\.conda\\envs\\pythonproject\\lib\\site-packages (from pandas) (2024.2)\n",
      "Requirement already satisfied: six>=1.5 in c:\\users\\ana petrova\\.conda\\envs\\pythonproject\\lib\\site-packages (from python-dateutil>=2.8.2->pandas) (1.16.0)\n"
     ]
    }
   ],
   "execution_count": 1
  },
  {
   "metadata": {
    "collapsed": true,
    "ExecuteTime": {
     "end_time": "2024-10-29T15:22:35.563239Z",
     "start_time": "2024-10-29T15:22:35.239960Z"
    }
   },
   "cell_type": "code",
   "outputs": [],
   "execution_count": 1,
   "source": "import pandas as pd",
   "id": "initial_id"
  },
  {
   "metadata": {
    "ExecuteTime": {
     "end_time": "2024-10-29T15:22:35.569379Z",
     "start_time": "2024-10-29T15:22:35.566246Z"
    }
   },
   "cell_type": "code",
   "source": [
    "clean_dataset_path = \"temp_measurements.csv\"\n",
    "dirty_dataset_path = \"temp_measurements_dirty_data.csv\""
   ],
   "id": "2143f00119361098",
   "outputs": [],
   "execution_count": 2
  },
  {
   "metadata": {},
   "cell_type": "markdown",
   "source": [
    "### Datasets\n",
    "1. \"temp_measurements.csv\" - contains generated data for 5 cities with temperature measurements on certain days in 2022 and 2023. Clean data.\n",
    "2. \"temp_measurements_dirty_data.csv\" - contains generated data for 5 cities with temperature measurements on certain days in 2022 and 2023. Data might have some errors, typos and similar.\n"
   ],
   "id": "ed88baa1f90c05f4"
  },
  {
   "metadata": {},
   "cell_type": "markdown",
   "source": [
    "### Part 1\n",
    "\n",
    "#### Load data, column data transformation"
   ],
   "id": "da0bd471cc8463e7"
  },
  {
   "metadata": {
    "ExecuteTime": {
     "end_time": "2024-10-29T15:22:35.634590Z",
     "start_time": "2024-10-29T15:22:35.632316Z"
    }
   },
   "cell_type": "code",
   "source": "# Load data - clean dataset",
   "id": "98dcac764404b91f",
   "outputs": [],
   "execution_count": 3
  },
  {
   "metadata": {
    "ExecuteTime": {
     "end_time": "2024-10-29T15:22:35.642207Z",
     "start_time": "2024-10-29T15:22:35.639753Z"
    }
   },
   "cell_type": "code",
   "source": [
    "# Task 1:\n",
    "\n",
    "# Transform the date column to datetime format"
   ],
   "id": "fa36bdfb3958a515",
   "outputs": [],
   "execution_count": 4
  },
  {
   "metadata": {
    "ExecuteTime": {
     "end_time": "2024-10-29T15:22:35.650349Z",
     "start_time": "2024-10-29T15:22:35.647738Z"
    }
   },
   "cell_type": "code",
   "source": [
    "# Task 2:\n",
    "\n",
    "# The temperature is currently in Celsius. Create a new column with the temperature in Fahrenheit.\n",
    "# For reference, the formula is: F = C * 9/5 + 32"
   ],
   "id": "efc400b5b5d38d0b",
   "outputs": [],
   "execution_count": 5
  },
  {
   "metadata": {},
   "cell_type": "markdown",
   "source": "",
   "id": "5f796ffd132029aa"
  },
  {
   "metadata": {},
   "cell_type": "markdown",
   "source": [
    "#### What if we had a dataset with dirty data? \n",
    "How would we make sure that our code didn't break, throw an exception or an error, or return incorrect results?"
   ],
   "id": "8c88b9d220243680"
  },
  {
   "metadata": {
    "ExecuteTime": {
     "end_time": "2024-10-29T15:22:35.658056Z",
     "start_time": "2024-10-29T15:22:35.655784Z"
    }
   },
   "cell_type": "code",
   "source": [
    "# Load data - dirty dataset\n",
    "\n",
    "# Task 3:\n",
    "\n",
    "# Transform the date column to datetime format, but handle errors and exceptions"
   ],
   "id": "298517b9c316ded",
   "outputs": [],
   "execution_count": 6
  },
  {
   "metadata": {
    "ExecuteTime": {
     "end_time": "2024-10-29T15:22:35.665792Z",
     "start_time": "2024-10-29T15:22:35.663373Z"
    }
   },
   "cell_type": "code",
   "source": [
    "# Task 4:\n",
    "\n",
    "# The temperature is currently in Celsius. Create a new column with the temperature in Fahrenheit.\n",
    "# Make sure to handle errors and exceptions."
   ],
   "id": "861abac1635699e9",
   "outputs": [],
   "execution_count": 7
  },
  {
   "metadata": {},
   "cell_type": "markdown",
   "source": [
    "### Part 2 \n",
    "\n",
    "#### Data analysis of clean dataset \n",
    "\n",
    "What if we wanted to analyze the data, specifically for the temperature measurements in Barcelona?\n",
    "\n",
    "Task 5: \n",
    "- Filter the data to only include temperature measurements for Barcelona\n",
    "- Calculate the average temperature for July 2022\n",
    "- Create a new DataFrame with the average temperature for each month in 2023"
   ],
   "id": "c2eaf9443bdb9"
  },
  {
   "metadata": {
    "ExecuteTime": {
     "end_time": "2024-10-29T15:22:35.672985Z",
     "start_time": "2024-10-29T15:22:35.671202Z"
    }
   },
   "cell_type": "code",
   "source": "",
   "id": "7cf964737b626f71",
   "outputs": [],
   "execution_count": null
  }
 ],
 "metadata": {
  "kernelspec": {
   "display_name": "Python 3",
   "language": "python",
   "name": "python3"
  },
  "language_info": {
   "codemirror_mode": {
    "name": "ipython",
    "version": 2
   },
   "file_extension": ".py",
   "mimetype": "text/x-python",
   "name": "python",
   "nbconvert_exporter": "python",
   "pygments_lexer": "ipython2",
   "version": "2.7.6"
  }
 },
 "nbformat": 4,
 "nbformat_minor": 5
}
